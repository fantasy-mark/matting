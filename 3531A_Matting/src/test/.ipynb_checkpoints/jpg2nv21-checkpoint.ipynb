{
 "cells": [
  {
   "cell_type": "code",
   "execution_count": 1,
   "metadata": {},
   "outputs": [],
   "source": [
    "from PIL import Image\n",
    "import numpy"
   ]
  },
  {
   "cell_type": "code",
   "execution_count": 2,
   "metadata": {},
   "outputs": [],
   "source": [
    "im = Image.open(\"test.jpg\")"
   ]
  },
  {
   "cell_type": "code",
   "execution_count": 3,
   "metadata": {},
   "outputs": [
    {
     "name": "stdout",
     "output_type": "stream",
     "text": [
      "Help on method split in module PIL.Image:\n",
      "\n",
      "split(self) method of PIL.JpegImagePlugin.JpegImageFile instance\n",
      "    Split this image into individual bands. This method returns a\n",
      "    tuple of individual image bands from an image. For example,\n",
      "    splitting an \"RGB\" image creates three new images each\n",
      "    containing a copy of one of the original bands (red, green,\n",
      "    blue).\n",
      "    \n",
      "    :returns: A tuple containing bands.\n",
      "\n"
     ]
    }
   ],
   "source": [
    "help(im.split)"
   ]
  },
  {
   "cell_type": "code",
   "execution_count": 4,
   "metadata": {},
   "outputs": [
    {
     "data": {
      "image/png": "[encoded data removed]",
      "text/plain": [
       "<PIL.PngImagePlugin.PngImageFile image mode=RGBA size=720x466 at 0x7FE2A16C9CD0>"
      ]
     },
     "metadata": {},
     "output_type": "display_data"
    },
    {
     "name": "stdout",
     "output_type": "stream",
     "text": [
      "\u001b[31mRGB :  0 \t255 \t1 \u001b[0m\n",
      "YVU :  145 \t34 \t54 \n",
      "\n",
      "3110400.0\n"
     ]
    },
    {
     "name": "stderr",
     "output_type": "stream",
     "text": [
      "IOPub data rate exceeded.\n",
      "The notebook server will temporarily stop sending output\n",
      "to the client in order to avoid crashing it.\n",
      "To change this limit, set the config variable\n",
      "`--NotebookApp.iopub_data_rate_limit`.\n",
      "\n",
      "Current values:\n",
      "NotebookApp.iopub_data_rate_limit=1000000.0 (bytes/sec)\n",
      "NotebookApp.rate_limit_window=3.0 (secs)\n",
      "\n"
     ]
    }
   ],
   "source": [
    "def my_jpg2nv21(im_jpg):\n",
    "    \"conver a jpg file to yuv file\"\n",
    "    #if(len(im_jpg.split())==4):\n",
    "    #    r,g,b,a=im_jpg.split();\n",
    "    #else:\n",
    "    r,g,b=im_jpg.split();\n",
    "\n",
    "    width,height=im_jpg.size;\n",
    "    im_new=range(width*height*3/2);\n",
    "\n",
    "    r = list(r.getdata());\n",
    "    g = list(g.getdata());\n",
    "    b = list(b.getdata());\n",
    "    print '\\033[31mRGB : ', r[0], '\\t', g[0], '\\t', b[0], '\\033[0m\\nYVU : ', 9*16+1, '\\t', 2*16+2, '\\t', 3*16+6, '\\n'\n",
    "    print 1920*1080*1.5\n",
    "    # Y = 0.257R + 0.504G + 0.098B + 16\n",
    "    # U = 0.148R - 0.291G + 0.439B + 128\n",
    "    # V = 0.439R - 0.368G - 0.071B + 128\n",
    "\n",
    "    for i in range(height):\n",
    "        for j in range(width):\n",
    "            index = i*width+j;\n",
    "            R = r[index];\n",
    "            G = g[index];\n",
    "            B = b[index];\n",
    "                     \n",
    "            Y = 0.257*R + 0.504*G + 0.098*B + 16\n",
    "            U = 0.148*R - 0.291*G + 0.439*B + 128\n",
    "            V = 0.439*R - 0.368*G - 0.071*B + 128\n",
    "\n",
    "            #print int(Y), int(U), int(V)\n",
    "            \n",
    "            # yuv420sp 把uv交叉储存, 储存在 width*height + index/2 和 width*height + index/2+1 位置\n",
    "            # yuv420p 把uv分开储存, 储存在 width*height + index%4, width*height*1.25 + index%4 位置\n",
    "            im_new[index] = chr(int(round(Y)))\n",
    "            if (index % 4 == 0):\n",
    "                # nv12格式则U在前\n",
    "                im_new[width*height+index/2] = chr(int(round(V)))\n",
    "                im_new[width*height+index/2+1] = chr(int(round(U)))\n",
    "\n",
    "    print im_new\n",
    "\n",
    "    return im_new;\n",
    "\n",
    "from IPython.display import display\n",
    "with Image.open(\"yuv_diff.png\") as im2:\n",
    "    display(im2)\n",
    "\n",
    "# same as $ ffmpeg -i test.jpg -s 1920x1080 -pix_fmt nv21 test.yuv\n",
    "im_yuv = my_jpg2nv21(im)"
   ]
  },
  {
   "cell_type": "code",
   "execution_count": 5,
   "metadata": {},
   "outputs": [
    {
     "name": "stdout",
     "output_type": "stream",
     "text": [
      "save yuv file successfully\n"
     ]
    }
   ],
   "source": [
    "with open(\"test.nv21\", \"wb\") as fp:\n",
    "    data = numpy.array(im_yuv)\n",
    "    data.tofile(fp)\n",
    "    fp.close()\n",
    "    print \"save yuv file successfully\""
   ]
  },
  {
   "cell_type": "code",
   "execution_count": null,
   "metadata": {},
   "outputs": [],
   "source": []
  }
 ],
 "metadata": {
  "kernelspec": {
   "display_name": "Python 2",
   "language": "python",
   "name": "python2"
  },
  "language_info": {
   "codemirror_mode": {
    "name": "ipython",
    "version": 2
   },
   "file_extension": ".py",
   "mimetype": "text/x-python",
   "name": "python",
   "nbconvert_exporter": "python",
   "pygments_lexer": "ipython2",
   "version": "2.7.12"
  }
 },
 "nbformat": 4,
 "nbformat_minor": 2
}
