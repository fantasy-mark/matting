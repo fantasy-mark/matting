{
 "cells": [
  {
   "cell_type": "code",
   "execution_count": 1,
   "metadata": {},
   "outputs": [],
   "source": [
    "#!/usr/bin/python\n",
    "# -*- coding: utf-9 -*-\n",
    "from matplotlib import pyplot as plt\n",
    "import numpy as np\n",
    "from mpl_toolkits.mplot3d import Axes3D"
   ]
  },
  {
   "cell_type": "code",
   "execution_count": 2,
   "metadata": {},
   "outputs": [],
   "source": [
    "A = np.array([[1], [2], [3]])\n",
    "B = np.array([[1], [1], [1]])"
   ]
  },
  {
   "cell_type": "code",
   "execution_count": 3,
   "metadata": {},
   "outputs": [],
   "source": [
    "x = np.linspace(-0.5, 1, 10)"
   ]
  },
  {
   "cell_type": "code",
   "execution_count": 27,
   "metadata": {},
   "outputs": [
    {
     "name": "stdout",
     "output_type": "stream",
     "text": [
      "[[-0.5        -0.33333333 -0.16666667  0.          0.16666667  0.33333333\n",
      "   0.5         0.66666667  0.83333333  1.        ]]\n"
     ]
    }
   ],
   "source": [
    "x.shape = (1, 10)\n",
    "print x"
   ]
  },
  {
   "cell_type": "code",
   "execution_count": 5,
   "metadata": {},
   "outputs": [],
   "source": [
    "xx = A.dot(x)"
   ]
  },
  {
   "cell_type": "code",
   "execution_count": 26,
   "metadata": {},
   "outputs": [
    {
     "name": "stdout",
     "output_type": "stream",
     "text": [
      "AA [[ 0.07142857]]\n",
      "\n",
      "A.dot(AA)\n",
      "[[ 0.07142857]\n",
      " [ 0.14285714]\n",
      " [ 0.21428571]]\n",
      "\n",
      "C [[6]]\n",
      "\n",
      "A.dot(AA).dot(C)\n",
      "[[ 0.42857143]\n",
      " [ 0.85714286]\n",
      " [ 1.28571429]]\n"
     ]
    }
   ],
   "source": [
    "C = A.T.dot(B)\n",
    "AA = np.linalg.inv(A.T.dot(A))\n",
    "print \"AA\", AA\n",
    "print \"\\nA.dot(AA)\\n\", A.dot(AA)\n",
    "print \"\\nC\", C\n",
    "print \"\\nA.dot(AA).dot(C)\\n\", A.dot(AA).dot(C)"
   ]
  },
  {
   "cell_type": "code",
   "execution_count": 7,
   "metadata": {},
   "outputs": [],
   "source": [
    "P = A.dot(AA).dot(C)\n",
    "E = B-P"
   ]
  },
  {
   "cell_type": "code",
   "execution_count": 8,
   "metadata": {},
   "outputs": [
    {
     "data": {
      "text/plain": [
       "<matplotlib.figure.Figure at 0x7f20f4288490>"
      ]
     },
     "metadata": {},
     "output_type": "display_data"
    }
   ],
   "source": [
    "fig = plt.figure()"
   ]
  },
  {
   "cell_type": "code",
   "execution_count": 13,
   "metadata": {},
   "outputs": [],
   "source": [
    "ax = fig.gca(projection='3d')"
   ]
  },
  {
   "cell_type": "code",
   "execution_count": 14,
   "metadata": {},
   "outputs": [
    {
     "name": "stdout",
     "output_type": "stream",
     "text": [
      "Help on method text in module mpl_toolkits.mplot3d.axes3d:\n",
      "\n",
      "text(self, x, y, z, s, zdir=None, **kwargs) method of matplotlib.axes._subplots.Axes3DSubplot instance\n",
      "    Add text to the plot. kwargs will be passed on to Axes.text,\n",
      "    except for the `zdir` keyword, which sets the direction to be\n",
      "    used as the z direction.\n",
      "\n"
     ]
    }
   ],
   "source": [
    "help(ax.text)"
   ]
  },
  {
   "cell_type": "code",
   "execution_count": 10,
   "metadata": {},
   "outputs": [
    {
     "data": {
      "text/plain": [
       "[<mpl_toolkits.mplot3d.art3d.Line3D at 0x7f2125439690>]"
      ]
     },
     "execution_count": 10,
     "metadata": {},
     "output_type": "execute_result"
    }
   ],
   "source": [
    "ax.plot(xx[0,:],xx[1,:],xx[2,:],label=\"lineA\")\n",
    "ax.plot(A[0],A[1],A[2],'ko',label=\"A\")\n",
    "ax.plot([0,B[0]],[0,B[1]],[0,B[2]],'m-o',label=\"OB\")\n",
    "ax.plot([B[0][0],P[0][0]],[B[1][0],P[1][0]],[B[2][0],P[2][0]],'r-o',label=\"BP\")\n",
    "ax.plot([0,E[0]],[0,E[1]],[0,E[2]],'y-o',label=\"OE\")"
   ]
  },
  {
   "cell_type": "code",
   "execution_count": 11,
   "metadata": {},
   "outputs": [],
   "source": [
    "ax.legend()\n",
    "ax.axis('equal')\n",
    "plt.show()"
   ]
  },
  {
   "cell_type": "code",
   "execution_count": null,
   "metadata": {},
   "outputs": [],
   "source": []
  }
 ],
 "metadata": {
  "kernelspec": {
   "display_name": "Python 2",
   "language": "python",
   "name": "python2"
  },
  "language_info": {
   "codemirror_mode": {
    "name": "ipython",
    "version": 2
   },
   "file_extension": ".py",
   "mimetype": "text/x-python",
   "name": "python",
   "nbconvert_exporter": "python",
   "pygments_lexer": "ipython2",
   "version": "2.7.12"
  }
 },
 "nbformat": 4,
 "nbformat_minor": 2
}
