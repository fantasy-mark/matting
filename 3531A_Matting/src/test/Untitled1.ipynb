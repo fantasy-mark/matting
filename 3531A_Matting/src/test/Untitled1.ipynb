{
 "cells": [
  {
   "cell_type": "code",
   "execution_count": 159,
   "metadata": {},
   "outputs": [],
   "source": [
    "#!/usr/bin/python\n",
    "# -*- coding: utf-8 -*-\n",
    "from matplotlib import pyplot as plt\n",
    "import numpy as np\n",
    "\n",
    "from IPython.display import Latex, Math, display"
   ]
  },
  {
   "cell_type": "markdown",
   "metadata": {},
   "source": [
    "**已知y = ax, 设 Ax=C 无解, 需要乘于一横向量后求x, 两边乘于A的转置即可, 变形得最小二乘法**"
   ]
  },
  {
   "cell_type": "code",
   "execution_count": 160,
   "metadata": {},
   "outputs": [
    {
     "data": {
      "text/latex": [
       "$I\\hat{x} = (A^{T}A)^{-1}A^{T}C\\quad Then: P = A\\hat{x}$"
      ],
      "text/plain": [
       "<IPython.core.display.Latex object>"
      ]
     },
     "execution_count": 160,
     "metadata": {},
     "output_type": "execute_result"
    }
   ],
   "source": [
    "Latex(r\"$I\\hat{x} = (A^{T}A)^{-1}A^{T}C\\quad Then: P = A\\hat{x}$\")"
   ]
  },
  {
   "cell_type": "code",
   "execution_count": 161,
   "metadata": {},
   "outputs": [
    {
     "name": "stdout",
     "output_type": "stream",
     "text": [
      "求得C距离A最近点为P :\n",
      "[[ 1.5]\n",
      " [ 0.5]]\n"
     ]
    },
    {
     "data": {
      "image/png": "[encoded data removed]",
      "text/plain": [
       "<matplotlib.figure.Figure at 0x7f667bd699d0>"
      ]
     },
     "metadata": {},
     "output_type": "display_data"
    }
   ],
   "source": [
    "A = np.array([[3], [1]])\n",
    "C = np.array([[1], [2]])\n",
    "\n",
    "plt.plot([A[0][0], 0, C[0][0]], [A[1][0], 0, C[1][0]], '-rh')\n",
    "plt.text(A[0][0], A[1][0], r'A', fontsize=16)\n",
    "plt.text(C[0][0], C[1][0], r'C', fontsize=16)\n",
    "\n",
    "AA = np.linalg.inv(A.T.dot(A))\n",
    "x = AA.dot(A.T).dot(C)\n",
    "P = A.dot(x)\n",
    "plt.plot([P[0][0], C[0][0]], [P[1][0], C[1][0]], '--bh')\n",
    "plt.text(P[0][0], P[1][0], r'P', fontsize=16)\n",
    "print '求得C距离A最近点为P :\\n', P\n",
    "\n",
    "plt.gca().set_aspect(1)"
   ]
  },
  {
   "cell_type": "code",
   "execution_count": null,
   "metadata": {},
   "outputs": [],
   "source": []
  }
 ],
 "metadata": {
  "kernelspec": {
   "display_name": "Python 2",
   "language": "python",
   "name": "python2"
  },
  "language_info": {
   "codemirror_mode": {
    "name": "ipython",
    "version": 2
   },
   "file_extension": ".py",
   "mimetype": "text/x-python",
   "name": "python",
   "nbconvert_exporter": "python",
   "pygments_lexer": "ipython2",
   "version": "2.7.12"
  }
 },
 "nbformat": 4,
 "nbformat_minor": 2
}
